{
 "cells": [
  {
   "cell_type": "markdown",
   "id": "2e3e9308-9420-4a36-a3e6-cfa21c14e7c8",
   "metadata": {},
   "source": [
    "# Creating Model for Classifying Mushroom\n",
    "\n",
    "### **Steps**\n",
    "\n",
    "#### 1. Preprocessing\n",
    "#### 2. Model Training \n",
    "#### 3. Evaluation\n",
    "#### 4. Experiment(Finding Best Model)"
   ]
  },
  {
   "cell_type": "code",
   "execution_count": 1,
   "id": "74e8f829-a57e-4bbb-9699-94bad983d478",
   "metadata": {},
   "outputs": [],
   "source": [
    "# importing required packages\n",
    "import numpy as np\n",
    "import pandas as pd \n",
    "import seaborn as sns\n",
    "import matplotlib.pyplot as plt\n",
    "\n",
    "\n",
    "from sklearn.model_selection import train_test_split\n",
    "from sklearn.metrics import accuracy_score, precision_score, recall_score, f1_score\n",
    "from sklearn.tree import DecisionTreeClassifier\n",
    "from sklearn.ensemble import RandomForestClassifier, AdaBoostClassifier\n",
    "from sklearn.svm import SVC\n",
    "from sklearn.linear_model import LogisticRegression\n",
    "from xgboost import XGBClassifier\n",
    "import warnings\n",
    "warnings.filterwarnings(\"ignore\", category=FutureWarning)"
   ]
  },
  {
   "cell_type": "code",
   "execution_count": 2,
   "id": "0f897cc4-973e-4367-a408-97353ee39f50",
   "metadata": {},
   "outputs": [
    {
     "data": {
      "text/html": [
       "<div>\n",
       "<style scoped>\n",
       "    .dataframe tbody tr th:only-of-type {\n",
       "        vertical-align: middle;\n",
       "    }\n",
       "\n",
       "    .dataframe tbody tr th {\n",
       "        vertical-align: top;\n",
       "    }\n",
       "\n",
       "    .dataframe thead th {\n",
       "        text-align: right;\n",
       "    }\n",
       "</style>\n",
       "<table border=\"1\" class=\"dataframe\">\n",
       "  <thead>\n",
       "    <tr style=\"text-align: right;\">\n",
       "      <th></th>\n",
       "      <th>class</th>\n",
       "      <th>cap-shape</th>\n",
       "      <th>cap-surface</th>\n",
       "      <th>cap-color</th>\n",
       "      <th>bruises</th>\n",
       "      <th>odor</th>\n",
       "      <th>gill-attachment</th>\n",
       "      <th>gill-spacing</th>\n",
       "      <th>gill-size</th>\n",
       "      <th>gill-color</th>\n",
       "      <th>...</th>\n",
       "      <th>stalk-surface-below-ring</th>\n",
       "      <th>stalk-color-above-ring</th>\n",
       "      <th>stalk-color-below-ring</th>\n",
       "      <th>veil-type</th>\n",
       "      <th>veil-color</th>\n",
       "      <th>ring-number</th>\n",
       "      <th>ring-type</th>\n",
       "      <th>spore-print-color</th>\n",
       "      <th>population</th>\n",
       "      <th>habitat</th>\n",
       "    </tr>\n",
       "  </thead>\n",
       "  <tbody>\n",
       "    <tr>\n",
       "      <th>0</th>\n",
       "      <td>p</td>\n",
       "      <td>x</td>\n",
       "      <td>s</td>\n",
       "      <td>n</td>\n",
       "      <td>t</td>\n",
       "      <td>p</td>\n",
       "      <td>f</td>\n",
       "      <td>c</td>\n",
       "      <td>n</td>\n",
       "      <td>k</td>\n",
       "      <td>...</td>\n",
       "      <td>s</td>\n",
       "      <td>w</td>\n",
       "      <td>w</td>\n",
       "      <td>p</td>\n",
       "      <td>w</td>\n",
       "      <td>o</td>\n",
       "      <td>p</td>\n",
       "      <td>k</td>\n",
       "      <td>s</td>\n",
       "      <td>u</td>\n",
       "    </tr>\n",
       "    <tr>\n",
       "      <th>1</th>\n",
       "      <td>e</td>\n",
       "      <td>x</td>\n",
       "      <td>s</td>\n",
       "      <td>y</td>\n",
       "      <td>t</td>\n",
       "      <td>a</td>\n",
       "      <td>f</td>\n",
       "      <td>c</td>\n",
       "      <td>b</td>\n",
       "      <td>k</td>\n",
       "      <td>...</td>\n",
       "      <td>s</td>\n",
       "      <td>w</td>\n",
       "      <td>w</td>\n",
       "      <td>p</td>\n",
       "      <td>w</td>\n",
       "      <td>o</td>\n",
       "      <td>p</td>\n",
       "      <td>n</td>\n",
       "      <td>n</td>\n",
       "      <td>g</td>\n",
       "    </tr>\n",
       "    <tr>\n",
       "      <th>2</th>\n",
       "      <td>e</td>\n",
       "      <td>b</td>\n",
       "      <td>s</td>\n",
       "      <td>w</td>\n",
       "      <td>t</td>\n",
       "      <td>l</td>\n",
       "      <td>f</td>\n",
       "      <td>c</td>\n",
       "      <td>b</td>\n",
       "      <td>n</td>\n",
       "      <td>...</td>\n",
       "      <td>s</td>\n",
       "      <td>w</td>\n",
       "      <td>w</td>\n",
       "      <td>p</td>\n",
       "      <td>w</td>\n",
       "      <td>o</td>\n",
       "      <td>p</td>\n",
       "      <td>n</td>\n",
       "      <td>n</td>\n",
       "      <td>m</td>\n",
       "    </tr>\n",
       "    <tr>\n",
       "      <th>3</th>\n",
       "      <td>p</td>\n",
       "      <td>x</td>\n",
       "      <td>y</td>\n",
       "      <td>w</td>\n",
       "      <td>t</td>\n",
       "      <td>p</td>\n",
       "      <td>f</td>\n",
       "      <td>c</td>\n",
       "      <td>n</td>\n",
       "      <td>n</td>\n",
       "      <td>...</td>\n",
       "      <td>s</td>\n",
       "      <td>w</td>\n",
       "      <td>w</td>\n",
       "      <td>p</td>\n",
       "      <td>w</td>\n",
       "      <td>o</td>\n",
       "      <td>p</td>\n",
       "      <td>k</td>\n",
       "      <td>s</td>\n",
       "      <td>u</td>\n",
       "    </tr>\n",
       "    <tr>\n",
       "      <th>4</th>\n",
       "      <td>e</td>\n",
       "      <td>x</td>\n",
       "      <td>s</td>\n",
       "      <td>g</td>\n",
       "      <td>f</td>\n",
       "      <td>n</td>\n",
       "      <td>f</td>\n",
       "      <td>w</td>\n",
       "      <td>b</td>\n",
       "      <td>k</td>\n",
       "      <td>...</td>\n",
       "      <td>s</td>\n",
       "      <td>w</td>\n",
       "      <td>w</td>\n",
       "      <td>p</td>\n",
       "      <td>w</td>\n",
       "      <td>o</td>\n",
       "      <td>e</td>\n",
       "      <td>n</td>\n",
       "      <td>a</td>\n",
       "      <td>g</td>\n",
       "    </tr>\n",
       "  </tbody>\n",
       "</table>\n",
       "<p>5 rows × 23 columns</p>\n",
       "</div>"
      ],
      "text/plain": [
       "  class cap-shape cap-surface cap-color bruises odor gill-attachment  \\\n",
       "0     p         x           s         n       t    p               f   \n",
       "1     e         x           s         y       t    a               f   \n",
       "2     e         b           s         w       t    l               f   \n",
       "3     p         x           y         w       t    p               f   \n",
       "4     e         x           s         g       f    n               f   \n",
       "\n",
       "  gill-spacing gill-size gill-color  ... stalk-surface-below-ring  \\\n",
       "0            c         n          k  ...                        s   \n",
       "1            c         b          k  ...                        s   \n",
       "2            c         b          n  ...                        s   \n",
       "3            c         n          n  ...                        s   \n",
       "4            w         b          k  ...                        s   \n",
       "\n",
       "  stalk-color-above-ring stalk-color-below-ring veil-type veil-color  \\\n",
       "0                      w                      w         p          w   \n",
       "1                      w                      w         p          w   \n",
       "2                      w                      w         p          w   \n",
       "3                      w                      w         p          w   \n",
       "4                      w                      w         p          w   \n",
       "\n",
       "  ring-number ring-type spore-print-color population habitat  \n",
       "0           o         p                 k          s       u  \n",
       "1           o         p                 n          n       g  \n",
       "2           o         p                 n          n       m  \n",
       "3           o         p                 k          s       u  \n",
       "4           o         e                 n          a       g  \n",
       "\n",
       "[5 rows x 23 columns]"
      ]
     },
     "execution_count": 2,
     "metadata": {},
     "output_type": "execute_result"
    }
   ],
   "source": [
    "df = pd.read_csv(\"data/mushrooms.csv\")\n",
    "df.head()"
   ]
  },
  {
   "cell_type": "code",
   "execution_count": 73,
   "id": "4bab3592-0c8b-4b6c-9642-e440a73a50ed",
   "metadata": {},
   "outputs": [
    {
     "data": {
      "text/plain": [
       "class                        2\n",
       "cap-shape                    6\n",
       "cap-surface                  4\n",
       "cap-color                   10\n",
       "bruises                      2\n",
       "odor                         9\n",
       "gill-attachment              2\n",
       "gill-spacing                 2\n",
       "gill-size                    2\n",
       "gill-color                  12\n",
       "stalk-shape                  2\n",
       "stalk-root                   5\n",
       "stalk-surface-above-ring     4\n",
       "stalk-surface-below-ring     4\n",
       "stalk-color-above-ring       9\n",
       "stalk-color-below-ring       9\n",
       "veil-type                    1\n",
       "veil-color                   4\n",
       "ring-number                  3\n",
       "ring-type                    5\n",
       "spore-print-color            9\n",
       "population                   6\n",
       "habitat                      7\n",
       "dtype: int64"
      ]
     },
     "execution_count": 73,
     "metadata": {},
     "output_type": "execute_result"
    }
   ],
   "source": [
    "df.nunique()"
   ]
  },
  {
   "cell_type": "markdown",
   "id": "569b6e83-163a-4fe7-bf5e-8840f04f9e07",
   "metadata": {},
   "source": [
    "## Preprocessing the data"
   ]
  },
  {
   "cell_type": "code",
   "execution_count": 74,
   "id": "75c6ef15-9153-453f-8cc1-60660f8f2d71",
   "metadata": {},
   "outputs": [
    {
     "data": {
      "text/plain": [
       "8124"
      ]
     },
     "execution_count": 74,
     "metadata": {},
     "output_type": "execute_result"
    }
   ],
   "source": [
    "len(df)"
   ]
  },
  {
   "cell_type": "code",
   "execution_count": 4,
   "id": "e4d34759-c8d3-4399-89af-e5afa999c558",
   "metadata": {},
   "outputs": [],
   "source": [
    "columns = [\"odor\", \"gill-color\", \"spore-print-color\", \"cap-color\", \"bruises\", \"stalk-surface-above-ring\", \"stalk-surface-below-ring\", \"gill-size\", \"ring-type\", \"population\"]"
   ]
  },
  {
   "cell_type": "code",
   "execution_count": 5,
   "id": "9883dd83-b5b3-4543-ac37-149a516753e0",
   "metadata": {},
   "outputs": [
    {
     "data": {
      "text/plain": [
       "(8124, 8124)"
      ]
     },
     "execution_count": 5,
     "metadata": {},
     "output_type": "execute_result"
    }
   ],
   "source": [
    "x = df[columns]\n",
    "y = df['class']\n",
    "\n",
    "len(x), len(y)"
   ]
  },
  {
   "cell_type": "code",
   "execution_count": 7,
   "id": "243928b6",
   "metadata": {},
   "outputs": [
    {
     "name": "stdout",
     "output_type": "stream",
     "text": [
      "Column 'odor': ['p' 'a' 'l' 'n' 'f' 'c' 'y' 's' 'm']\n",
      "Column 'gill-color': ['k' 'n' 'g' 'p' 'w' 'h' 'u' 'e' 'b' 'r' 'y' 'o']\n",
      "Column 'spore-print-color': ['k' 'n' 'u' 'h' 'w' 'r' 'o' 'y' 'b']\n",
      "Column 'cap-color': ['n' 'y' 'w' 'g' 'e' 'p' 'b' 'u' 'c' 'r']\n",
      "Column 'bruises': ['t' 'f']\n",
      "Column 'stalk-surface-above-ring': ['s' 'f' 'k' 'y']\n",
      "Column 'stalk-surface-below-ring': ['s' 'f' 'y' 'k']\n",
      "Column 'gill-size': ['n' 'b']\n",
      "Column 'ring-type': ['p' 'e' 'l' 'f' 'n']\n",
      "Column 'population': ['s' 'n' 'a' 'v' 'y' 'c']\n"
     ]
    }
   ],
   "source": [
    "for column in x.columns:\n",
    "    unique_values = x[column].unique()\n",
    "    print(f\"Column '{column}': {unique_values}\")"
   ]
  },
  {
   "cell_type": "code",
   "execution_count": 77,
   "id": "0af96b5d-a505-4149-a751-ed2dd590f8e3",
   "metadata": {},
   "outputs": [
    {
     "name": "stdout",
     "output_type": "stream",
     "text": [
      "<class 'pandas.core.frame.DataFrame'>\n",
      "RangeIndex: 8124 entries, 0 to 8123\n",
      "Data columns (total 10 columns):\n",
      " #   Column                    Non-Null Count  Dtype \n",
      "---  ------                    --------------  ----- \n",
      " 0   odor                      8124 non-null   object\n",
      " 1   gill-color                8124 non-null   object\n",
      " 2   spore-print-color         8124 non-null   object\n",
      " 3   cap-color                 8124 non-null   object\n",
      " 4   bruises                   8124 non-null   object\n",
      " 5   stalk-surface-above-ring  8124 non-null   object\n",
      " 6   stalk-surface-below-ring  8124 non-null   object\n",
      " 7   gill-size                 8124 non-null   object\n",
      " 8   ring-type                 8124 non-null   object\n",
      " 9   population                8124 non-null   object\n",
      "dtypes: object(10)\n",
      "memory usage: 634.8+ KB\n"
     ]
    }
   ],
   "source": [
    "x.info()"
   ]
  },
  {
   "cell_type": "code",
   "execution_count": 78,
   "id": "e9b9bd65-81ee-4e9b-bffb-b8e90103e17e",
   "metadata": {},
   "outputs": [],
   "source": [
    "# Preprocessing Feature Variables \n",
    "from sklearn.preprocessing import OneHotEncoder\n",
    "\n",
    "ohe = OneHotEncoder(sparse_output=False)\n",
    "\n",
    "x = ohe.fit_transform(x)"
   ]
  },
  {
   "cell_type": "code",
   "execution_count": 79,
   "id": "8b1c9bc6-9de4-4992-b96b-4ffa1b090dd4",
   "metadata": {},
   "outputs": [
    {
     "data": {
      "text/plain": [
       "(8124, 63)"
      ]
     },
     "execution_count": 79,
     "metadata": {},
     "output_type": "execute_result"
    }
   ],
   "source": [
    "x.shape"
   ]
  },
  {
   "cell_type": "code",
   "execution_count": 80,
   "id": "32ef520e-787c-4bfb-9d8d-643f5d8bc689",
   "metadata": {},
   "outputs": [
    {
     "data": {
      "text/plain": [
       "(8124,)"
      ]
     },
     "execution_count": 80,
     "metadata": {},
     "output_type": "execute_result"
    }
   ],
   "source": [
    "# Preprocessing Traget Variable\n",
    "y = y.map({'e': 0, 'p': 1})\n",
    "y.shape"
   ]
  },
  {
   "cell_type": "code",
   "execution_count": 81,
   "id": "bd6790bb-32f5-4426-9bba-4f78709314e4",
   "metadata": {},
   "outputs": [],
   "source": [
    "# Reducing the dimensionality by extracting features\n",
    "from sklearn.decomposition import PCA\n",
    "\n",
    "pca = PCA(n_components=2)\n",
    "\n",
    "x = pca.fit_transform(x)"
   ]
  },
  {
   "cell_type": "code",
   "execution_count": 82,
   "id": "391c234b-35d6-46d1-8e56-645dd0ad257e",
   "metadata": {},
   "outputs": [
    {
     "data": {
      "text/plain": [
       "(8124, 2)"
      ]
     },
     "execution_count": 82,
     "metadata": {},
     "output_type": "execute_result"
    }
   ],
   "source": [
    "x.shape"
   ]
  },
  {
   "cell_type": "code",
   "execution_count": 83,
   "id": "bbf0523e-c5cf-4da1-94a7-0e0870e5a062",
   "metadata": {},
   "outputs": [
    {
     "data": {
      "text/plain": [
       "(6499, 1625, 6499, 1625)"
      ]
     },
     "execution_count": 83,
     "metadata": {},
     "output_type": "execute_result"
    }
   ],
   "source": [
    "x_train, x_test, y_train, y_test = train_test_split(x, y, test_size=0.2, random_state=42)\n",
    "\n",
    "len(x_train), len(x_test), len(y_train), len(y_test)"
   ]
  },
  {
   "cell_type": "markdown",
   "id": "234ef441-19a1-4184-9642-59b2e42efc9c",
   "metadata": {},
   "source": [
    "## Creating & Evaluating Models"
   ]
  },
  {
   "cell_type": "code",
   "execution_count": 84,
   "id": "b6c8e662-d12b-4bcf-a4e3-a8c503ca13c8",
   "metadata": {},
   "outputs": [],
   "source": [
    "# Evaluation Function\n",
    "def eval_model(true, predicted):\n",
    "    accuracy = accuracy_score(true, predicted)\n",
    "    F1_Score = f1_score(true, predicted)\n",
    "    recall = recall_score(true, predicted)\n",
    "    precision = precision_score(true, predicted)\n",
    "    return accuracy, F1_Score, recall, precision"
   ]
  },
  {
   "cell_type": "code",
   "execution_count": 85,
   "id": "817e145e-5c3f-4175-8c90-4879ed878bbb",
   "metadata": {},
   "outputs": [
    {
     "name": "stdout",
     "output_type": "stream",
     "text": [
      "Decision_Tree\n",
      "---Model performance on Training set---\n",
      "- Accuracy: 1.0000\n",
      "- Recall: 1.0000\n",
      "- Precision: 1.0000\n",
      "- F1 Score: 1.0000\n",
      "----------------------------------\n",
      "---Model performance on Test set---\n",
      "- Accuracy: 1.0000\n",
      "- Recall: 1.0000\n",
      "- Precision: 1.0000\n",
      "- F1 Score: 1.0000\n",
      "===================================\n",
      "\n",
      "\n",
      "Random_Forest\n",
      "---Model performance on Training set---\n",
      "- Accuracy: 1.0000\n",
      "- Recall: 1.0000\n",
      "- Precision: 1.0000\n",
      "- F1 Score: 1.0000\n",
      "----------------------------------\n",
      "---Model performance on Test set---\n",
      "- Accuracy: 1.0000\n",
      "- Recall: 1.0000\n",
      "- Precision: 1.0000\n",
      "- F1 Score: 1.0000\n",
      "===================================\n",
      "\n",
      "\n",
      "AdaBoost\n",
      "---Model performance on Training set---\n",
      "- Accuracy: 0.9729\n",
      "- Recall: 0.9719\n",
      "- Precision: 0.9719\n",
      "- F1 Score: 0.9719\n",
      "----------------------------------\n",
      "---Model performance on Test set---\n",
      "- Accuracy: 0.9674\n",
      "- Recall: 0.9693\n",
      "- Precision: 0.9632\n",
      "- F1 Score: 0.9662\n",
      "===================================\n",
      "\n",
      "\n",
      "SVC\n",
      "---Model performance on Training set---\n",
      "- Accuracy: 0.9465\n",
      "- Recall: 0.9036\n",
      "- Precision: 0.9840\n",
      "- F1 Score: 0.9421\n",
      "----------------------------------\n",
      "---Model performance on Test set---\n",
      "- Accuracy: 0.9446\n",
      "- Recall: 0.9105\n",
      "- Precision: 0.9727\n",
      "- F1 Score: 0.9406\n",
      "===================================\n",
      "\n",
      "\n",
      "Logistic_Regression\n",
      "---Model performance on Training set---\n",
      "- Accuracy: 0.8566\n",
      "- Recall: 0.7936\n",
      "- Precision: 0.8972\n",
      "- F1 Score: 0.8422\n",
      "----------------------------------\n",
      "---Model performance on Test set---\n",
      "- Accuracy: 0.8535\n",
      "- Recall: 0.7839\n",
      "- Precision: 0.8988\n",
      "- F1 Score: 0.8374\n",
      "===================================\n",
      "\n",
      "\n",
      "XGBoost\n",
      "---Model performance on Training set---\n",
      "- Accuracy: 0.9995\n",
      "- Recall: 1.0000\n",
      "- Precision: 0.9990\n",
      "- F1 Score: 0.9995\n",
      "----------------------------------\n",
      "---Model performance on Test set---\n",
      "- Accuracy: 0.9994\n",
      "- Recall: 1.0000\n",
      "- Precision: 0.9987\n",
      "- F1 Score: 0.9994\n",
      "===================================\n",
      "\n",
      "\n"
     ]
    }
   ],
   "source": [
    "models = {\n",
    "    \"Decision_Tree\": DecisionTreeClassifier(),\n",
    "    \"Random_Forest\": RandomForestClassifier(),\n",
    "    \"AdaBoost\": AdaBoostClassifier(),\n",
    "    \"SVC\": SVC(),\n",
    "    \"Logistic_Regression\": LogisticRegression(),\n",
    "    \"XGBoost\": XGBClassifier(),\n",
    "}\n",
    "\n",
    "model_list = []\n",
    "accuracy_list = []\n",
    "\n",
    "for i in range(len(list(models))):\n",
    "    model = list(models.values())[i]\n",
    "    model.fit(x_train, y_train)\n",
    "\n",
    "    # Making Predictions\n",
    "    y_train_pred = model.predict(x_train)\n",
    "    y_test_pred = model.predict(x_test)\n",
    "\n",
    "    # Evaluating train and test data\n",
    "    train_model_accuracy, train_model_f1, train_model_recall, train_model_precision = eval_model(y_train, y_train_pred)\n",
    "    test_model_accuracy, test_model_f1, test_model_recall, test_model_precision = eval_model(y_test, y_test_pred)\n",
    "\n",
    "    print(list(models.keys())[i])\n",
    "    model_list.append(list(models.keys())[i])\n",
    "\n",
    "    print('---Model performance on Training set---')\n",
    "    print(\"- Accuracy: {:.4f}\".format(train_model_accuracy))\n",
    "    print(\"- Recall: {:.4f}\".format(train_model_recall))\n",
    "    print(\"- Precision: {:.4f}\".format(train_model_precision))\n",
    "    print(\"- F1 Score: {:.4f}\".format(train_model_f1))\n",
    "    \n",
    "    print('----------------------------------')\n",
    "    \n",
    "    print('---Model performance on Test set---')\n",
    "    print(\"- Accuracy: {:.4f}\".format(test_model_accuracy))\n",
    "    print(\"- Recall: {:.4f}\".format(test_model_recall))\n",
    "    print(\"- Precision: {:.4f}\".format(test_model_precision))\n",
    "    print(\"- F1 Score: {:.4f}\".format(test_model_f1))\n",
    "    accuracy_list.append(test_model_accuracy)\n",
    "\n",
    "    print('='*35)\n",
    "    print('\\n')"
   ]
  },
  {
   "cell_type": "code",
   "execution_count": 86,
   "id": "69812ea5-e4ce-4ad7-9bec-8a7d0c330784",
   "metadata": {},
   "outputs": [
    {
     "data": {
      "text/html": [
       "<div>\n",
       "<style scoped>\n",
       "    .dataframe tbody tr th:only-of-type {\n",
       "        vertical-align: middle;\n",
       "    }\n",
       "\n",
       "    .dataframe tbody tr th {\n",
       "        vertical-align: top;\n",
       "    }\n",
       "\n",
       "    .dataframe thead th {\n",
       "        text-align: right;\n",
       "    }\n",
       "</style>\n",
       "<table border=\"1\" class=\"dataframe\">\n",
       "  <thead>\n",
       "    <tr style=\"text-align: right;\">\n",
       "      <th></th>\n",
       "      <th>Model Name</th>\n",
       "      <th>Accuracy_Score</th>\n",
       "    </tr>\n",
       "  </thead>\n",
       "  <tbody>\n",
       "    <tr>\n",
       "      <th>0</th>\n",
       "      <td>Decision_Tree</td>\n",
       "      <td>1.000000</td>\n",
       "    </tr>\n",
       "    <tr>\n",
       "      <th>1</th>\n",
       "      <td>Random_Forest</td>\n",
       "      <td>1.000000</td>\n",
       "    </tr>\n",
       "    <tr>\n",
       "      <th>5</th>\n",
       "      <td>XGBoost</td>\n",
       "      <td>0.999385</td>\n",
       "    </tr>\n",
       "    <tr>\n",
       "      <th>2</th>\n",
       "      <td>AdaBoost</td>\n",
       "      <td>0.967385</td>\n",
       "    </tr>\n",
       "    <tr>\n",
       "      <th>3</th>\n",
       "      <td>SVC</td>\n",
       "      <td>0.944615</td>\n",
       "    </tr>\n",
       "    <tr>\n",
       "      <th>4</th>\n",
       "      <td>Logistic_Regression</td>\n",
       "      <td>0.853538</td>\n",
       "    </tr>\n",
       "  </tbody>\n",
       "</table>\n",
       "</div>"
      ],
      "text/plain": [
       "            Model Name  Accuracy_Score\n",
       "0        Decision_Tree        1.000000\n",
       "1        Random_Forest        1.000000\n",
       "5              XGBoost        0.999385\n",
       "2             AdaBoost        0.967385\n",
       "3                  SVC        0.944615\n",
       "4  Logistic_Regression        0.853538"
      ]
     },
     "execution_count": 86,
     "metadata": {},
     "output_type": "execute_result"
    }
   ],
   "source": [
    "pd.DataFrame(list(zip(model_list, accuracy_list)), columns=['Model Name', 'Accuracy_Score']).sort_values(by=[\"Accuracy_Score\"],ascending=False)\n"
   ]
  },
  {
   "cell_type": "markdown",
   "id": "ed0ba109-6257-483d-8406-723b664a74ad",
   "metadata": {},
   "source": [
    "# SupportVectorClassifier"
   ]
  },
  {
   "cell_type": "code",
   "execution_count": 87,
   "id": "93498c4e-f7b9-4bc6-83c7-895e0b4e6e17",
   "metadata": {},
   "outputs": [
    {
     "name": "stdout",
     "output_type": "stream",
     "text": [
      "Accuracy of the model is 94.46\n"
     ]
    }
   ],
   "source": [
    "svc_model = SVC()\n",
    "svc_model = svc_model.fit(x_train, y_train)\n",
    "y_pred = svc_model.predict(x_test)\n",
    "score = accuracy_score(y_test, y_pred)*100\n",
    "print(\"Accuracy of the model is %.2f\" %score)"
   ]
  },
  {
   "cell_type": "code",
   "execution_count": 88,
   "id": "7cf0f940-c476-41eb-999f-86cabbaabfab",
   "metadata": {},
   "outputs": [
    {
     "data": {
      "text/plain": [
       "Text(0, 0.5, 'Predicted')"
      ]
     },
     "execution_count": 88,
     "metadata": {},
     "output_type": "execute_result"
    },
    {
     "data": {
      "image/png": "[encoded data removed]",
      "text/plain": [
       "<Figure size 640x480 with 1 Axes>"
      ]
     },
     "metadata": {},
     "output_type": "display_data"
    }
   ],
   "source": [
    "# PLotting the test and predicted results\n",
    "\n",
    "plt.scatter(y_test,y_pred)\n",
    "plt.xlabel('Actual')\n",
    "plt.ylabel('Predicted')"
   ]
  },
  {
   "cell_type": "code",
   "execution_count": 89,
   "id": "ab7b103e-9ed7-4631-80cc-aa3b5dcc846a",
   "metadata": {},
   "outputs": [
    {
     "data": {
      "text/plain": [
       "<Axes: xlabel='class'>"
      ]
     },
     "execution_count": 89,
     "metadata": {},
     "output_type": "execute_result"
    },
    {
     "data": {
      "image/png": "[encoded data removed]",
      "text/plain": [
       "<Figure size 640x480 with 1 Axes>"
      ]
     },
     "metadata": {},
     "output_type": "display_data"
    }
   ],
   "source": [
    "sns.regplot(x=y_test, y=y_pred, ci=None, color='green')"
   ]
  },
  {
   "cell_type": "code",
   "execution_count": 90,
   "id": "1998afa7-080e-42ab-a9cf-c6f1f7073ca1",
   "metadata": {},
   "outputs": [
    {
     "data": {
      "text/html": [
       "<div>\n",
       "<style scoped>\n",
       "    .dataframe tbody tr th:only-of-type {\n",
       "        vertical-align: middle;\n",
       "    }\n",
       "\n",
       "    .dataframe tbody tr th {\n",
       "        vertical-align: top;\n",
       "    }\n",
       "\n",
       "    .dataframe thead th {\n",
       "        text-align: right;\n",
       "    }\n",
       "</style>\n",
       "<table border=\"1\" class=\"dataframe\">\n",
       "  <thead>\n",
       "    <tr style=\"text-align: right;\">\n",
       "      <th></th>\n",
       "      <th>class</th>\n",
       "      <th>cap-shape</th>\n",
       "      <th>cap-surface</th>\n",
       "      <th>cap-color</th>\n",
       "      <th>bruises</th>\n",
       "      <th>odor</th>\n",
       "      <th>gill-attachment</th>\n",
       "      <th>gill-spacing</th>\n",
       "      <th>gill-size</th>\n",
       "      <th>gill-color</th>\n",
       "      <th>...</th>\n",
       "      <th>stalk-surface-below-ring</th>\n",
       "      <th>stalk-color-above-ring</th>\n",
       "      <th>stalk-color-below-ring</th>\n",
       "      <th>veil-type</th>\n",
       "      <th>veil-color</th>\n",
       "      <th>ring-number</th>\n",
       "      <th>ring-type</th>\n",
       "      <th>spore-print-color</th>\n",
       "      <th>population</th>\n",
       "      <th>habitat</th>\n",
       "    </tr>\n",
       "  </thead>\n",
       "  <tbody>\n",
       "    <tr>\n",
       "      <th>0</th>\n",
       "      <td>p</td>\n",
       "      <td>x</td>\n",
       "      <td>s</td>\n",
       "      <td>n</td>\n",
       "      <td>t</td>\n",
       "      <td>p</td>\n",
       "      <td>f</td>\n",
       "      <td>c</td>\n",
       "      <td>n</td>\n",
       "      <td>k</td>\n",
       "      <td>...</td>\n",
       "      <td>s</td>\n",
       "      <td>w</td>\n",
       "      <td>w</td>\n",
       "      <td>p</td>\n",
       "      <td>w</td>\n",
       "      <td>o</td>\n",
       "      <td>p</td>\n",
       "      <td>k</td>\n",
       "      <td>s</td>\n",
       "      <td>u</td>\n",
       "    </tr>\n",
       "    <tr>\n",
       "      <th>1</th>\n",
       "      <td>e</td>\n",
       "      <td>x</td>\n",
       "      <td>s</td>\n",
       "      <td>y</td>\n",
       "      <td>t</td>\n",
       "      <td>a</td>\n",
       "      <td>f</td>\n",
       "      <td>c</td>\n",
       "      <td>b</td>\n",
       "      <td>k</td>\n",
       "      <td>...</td>\n",
       "      <td>s</td>\n",
       "      <td>w</td>\n",
       "      <td>w</td>\n",
       "      <td>p</td>\n",
       "      <td>w</td>\n",
       "      <td>o</td>\n",
       "      <td>p</td>\n",
       "      <td>n</td>\n",
       "      <td>n</td>\n",
       "      <td>g</td>\n",
       "    </tr>\n",
       "    <tr>\n",
       "      <th>2</th>\n",
       "      <td>e</td>\n",
       "      <td>b</td>\n",
       "      <td>s</td>\n",
       "      <td>w</td>\n",
       "      <td>t</td>\n",
       "      <td>l</td>\n",
       "      <td>f</td>\n",
       "      <td>c</td>\n",
       "      <td>b</td>\n",
       "      <td>n</td>\n",
       "      <td>...</td>\n",
       "      <td>s</td>\n",
       "      <td>w</td>\n",
       "      <td>w</td>\n",
       "      <td>p</td>\n",
       "      <td>w</td>\n",
       "      <td>o</td>\n",
       "      <td>p</td>\n",
       "      <td>n</td>\n",
       "      <td>n</td>\n",
       "      <td>m</td>\n",
       "    </tr>\n",
       "    <tr>\n",
       "      <th>3</th>\n",
       "      <td>p</td>\n",
       "      <td>x</td>\n",
       "      <td>y</td>\n",
       "      <td>w</td>\n",
       "      <td>t</td>\n",
       "      <td>p</td>\n",
       "      <td>f</td>\n",
       "      <td>c</td>\n",
       "      <td>n</td>\n",
       "      <td>n</td>\n",
       "      <td>...</td>\n",
       "      <td>s</td>\n",
       "      <td>w</td>\n",
       "      <td>w</td>\n",
       "      <td>p</td>\n",
       "      <td>w</td>\n",
       "      <td>o</td>\n",
       "      <td>p</td>\n",
       "      <td>k</td>\n",
       "      <td>s</td>\n",
       "      <td>u</td>\n",
       "    </tr>\n",
       "    <tr>\n",
       "      <th>4</th>\n",
       "      <td>e</td>\n",
       "      <td>x</td>\n",
       "      <td>s</td>\n",
       "      <td>g</td>\n",
       "      <td>f</td>\n",
       "      <td>n</td>\n",
       "      <td>f</td>\n",
       "      <td>w</td>\n",
       "      <td>b</td>\n",
       "      <td>k</td>\n",
       "      <td>...</td>\n",
       "      <td>s</td>\n",
       "      <td>w</td>\n",
       "      <td>w</td>\n",
       "      <td>p</td>\n",
       "      <td>w</td>\n",
       "      <td>o</td>\n",
       "      <td>e</td>\n",
       "      <td>n</td>\n",
       "      <td>a</td>\n",
       "      <td>g</td>\n",
       "    </tr>\n",
       "  </tbody>\n",
       "</table>\n",
       "<p>5 rows × 23 columns</p>\n",
       "</div>"
      ],
      "text/plain": [
       "  class cap-shape cap-surface cap-color bruises odor gill-attachment  \\\n",
       "0     p         x           s         n       t    p               f   \n",
       "1     e         x           s         y       t    a               f   \n",
       "2     e         b           s         w       t    l               f   \n",
       "3     p         x           y         w       t    p               f   \n",
       "4     e         x           s         g       f    n               f   \n",
       "\n",
       "  gill-spacing gill-size gill-color  ... stalk-surface-below-ring  \\\n",
       "0            c         n          k  ...                        s   \n",
       "1            c         b          k  ...                        s   \n",
       "2            c         b          n  ...                        s   \n",
       "3            c         n          n  ...                        s   \n",
       "4            w         b          k  ...                        s   \n",
       "\n",
       "  stalk-color-above-ring stalk-color-below-ring veil-type veil-color  \\\n",
       "0                      w                      w         p          w   \n",
       "1                      w                      w         p          w   \n",
       "2                      w                      w         p          w   \n",
       "3                      w                      w         p          w   \n",
       "4                      w                      w         p          w   \n",
       "\n",
       "  ring-number ring-type spore-print-color population habitat  \n",
       "0           o         p                 k          s       u  \n",
       "1           o         p                 n          n       g  \n",
       "2           o         p                 n          n       m  \n",
       "3           o         p                 k          s       u  \n",
       "4           o         e                 n          a       g  \n",
       "\n",
       "[5 rows x 23 columns]"
      ]
     },
     "execution_count": 90,
     "metadata": {},
     "output_type": "execute_result"
    }
   ],
   "source": [
    "df.head()"
   ]
  },
  {
   "cell_type": "code",
   "execution_count": 8,
   "id": "ce5c78ff-844d-4c6d-a5ad-dcc8784b0ddc",
   "metadata": {},
   "outputs": [
    {
     "name": "stdout",
     "output_type": "stream",
     "text": [
      "<class 'pandas.core.frame.DataFrame'>\n",
      "RangeIndex: 8124 entries, 0 to 8123\n",
      "Data columns (total 23 columns):\n",
      " #   Column                    Non-Null Count  Dtype \n",
      "---  ------                    --------------  ----- \n",
      " 0   class                     8124 non-null   object\n",
      " 1   cap_shape                 8124 non-null   object\n",
      " 2   cap_surface               8124 non-null   object\n",
      " 3   cap_color                 8124 non-null   object\n",
      " 4   bruises                   8124 non-null   object\n",
      " 5   odor                      8124 non-null   object\n",
      " 6   gill_attachment           8124 non-null   object\n",
      " 7   gill_spacing              8124 non-null   object\n",
      " 8   gill_size                 8124 non-null   object\n",
      " 9   gill_color                8124 non-null   object\n",
      " 10  stalk_shape               8124 non-null   object\n",
      " 11  stalk_root                8124 non-null   object\n",
      " 12  stalk_surface_above_ring  8124 non-null   object\n",
      " 13  stalk_surface_below_ring  8124 non-null   object\n",
      " 14  stalk_color_above_ring    8124 non-null   object\n",
      " 15  stalk_color_below_ring    8124 non-null   object\n",
      " 16  veil_type                 8124 non-null   object\n",
      " 17  veil_color                8124 non-null   object\n",
      " 18  ring_number               8124 non-null   object\n",
      " 19  ring_type                 8124 non-null   object\n",
      " 20  spore_print_color         8124 non-null   object\n",
      " 21  population                8124 non-null   object\n",
      " 22  habitat                   8124 non-null   object\n",
      "dtypes: object(23)\n",
      "memory usage: 1.4+ MB\n"
     ]
    }
   ],
   "source": [
    "new_df = df.rename(columns=lambda x: x.replace('-','_'))\n",
    "new_df.info()"
   ]
  },
  {
   "cell_type": "code",
   "execution_count": 9,
   "id": "7f1f47dd-6747-4566-8128-379113fc986a",
   "metadata": {},
   "outputs": [],
   "source": [
    "new_df.to_csv('new_data.csv', index=False)"
   ]
  },
  {
   "cell_type": "code",
   "execution_count": null,
   "id": "e4598dab-bcac-40d8-bcb1-a15ab9cc62ea",
   "metadata": {},
   "outputs": [],
   "source": []
  }
 ],
 "metadata": {
  "kernelspec": {
   "display_name": "Python 3 (ipykernel)",
   "language": "python",
   "name": "python3"
  },
  "language_info": {
   "codemirror_mode": {
    "name": "ipython",
    "version": 3
   },
   "file_extension": ".py",
   "mimetype": "text/x-python",
   "name": "python",
   "nbconvert_exporter": "python",
   "pygments_lexer": "ipython3",
   "version": "3.10.0"
  }
 },
 "nbformat": 4,
 "nbformat_minor": 5
}
